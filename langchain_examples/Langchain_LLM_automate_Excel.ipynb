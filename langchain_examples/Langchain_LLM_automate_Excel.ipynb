{
 "cells": [
  {
   "cell_type": "code",
   "execution_count": null,
   "id": "6c2d53cc-82df-4fcf-be7b-bdfa74dafe83",
   "metadata": {},
   "outputs": [],
   "source": [
    "# Autonomous Excel"
   ]
  },
  {
   "cell_type": "code",
   "execution_count": null,
   "id": "9211b61d-d3b6-4624-ac77-3beef1d579d6",
   "metadata": {
    "tags": []
   },
   "outputs": [],
   "source": [
    "from langchain.agents import create_pandas_dataframe_agent\n",
    "from langchain.llms import OpenAI\n",
    "import dotenv \n",
    "import os\n",
    "import pandas as pd\n",
    "\n",
    "api_keys = dotenv.dotenv_values()\n",
    "os.environ['OPENAI_API_KEY'] = api_keys['openai_api_key']\n",
    "\n",
    "df = pd.read_csv('cc_statement_short.csv')\n",
    "df = df.fillna(0)"
   ]
  },
  {
   "cell_type": "markdown",
   "id": "e37d813b-dab9-422c-9efa-b724672b00ac",
   "metadata": {},
   "source": [
    "### Agent"
   ]
  },
  {
   "cell_type": "code",
   "execution_count": null,
   "id": "f26b6927-b5ab-42f5-b586-4796160efd70",
   "metadata": {},
   "outputs": [],
   "source": [
    "agent = create_pandas_dataframe_agent(OpenAI(temperature=0, model_name='text-davinci-003'), df, verbose=True) #text-davinci-003"
   ]
  },
  {
   "cell_type": "code",
   "execution_count": null,
   "id": "3a6afeec-6b2d-4f0b-929c-bb97afb93cc7",
   "metadata": {},
   "outputs": [],
   "source": [
    "from langchain.chat_models import ChatOpenAI\n",
    "chatgpt = ChatOpenAI(temperature=0, model_name='gpt-3.5-turbo')\n",
    "agent2 = create_pandas_dataframe_agent(chatgpt, df, verbose=True, agent = 'conversational-react-description')"
   ]
  },
  {
   "cell_type": "markdown",
   "id": "621d8804-3e45-4109-9dde-e61c8bcbfd63",
   "metadata": {},
   "source": [
    "### Query"
   ]
  },
  {
   "cell_type": "code",
   "execution_count": null,
   "id": "9f2a28fe-1c9f-41df-8c2d-e72060ffb944",
   "metadata": {},
   "outputs": [],
   "source": [
    "agent.run('tell me the highest spending (total debit) amount by category')"
   ]
  },
  {
   "cell_type": "code",
   "execution_count": null,
   "id": "e4464781-11fe-4190-b47f-820b07e4921f",
   "metadata": {},
   "outputs": [],
   "source": [
    "df.groupby('Category')['Debit'].sum()"
   ]
  },
  {
   "cell_type": "code",
   "execution_count": null,
   "id": "73dc62c5-3d6a-424f-8445-3798e37ca3c8",
   "metadata": {},
   "outputs": [],
   "source": [
    "agent.run('calculate total spending by category, then save the results to an Excel file called \"spending_summary.xlsx\" on my computer')"
   ]
  },
  {
   "cell_type": "code",
   "execution_count": null,
   "id": "e8c2f260-e365-42cf-b83f-8db4df0c0f49",
   "metadata": {},
   "outputs": [],
   "source": [
    "agent = create_pandas_dataframe_agent(OpenAI(temperature=0, model_name='gpt-3.5-turbo'), df, verbose=True) #text-davinci-003"
   ]
  },
  {
   "cell_type": "code",
   "execution_count": null,
   "id": "aab9c4bd-6c78-4d37-905c-b158fdfb7285",
   "metadata": {},
   "outputs": [],
   "source": [
    "query = \"\"\"\n",
    "analyze the dataframe provided, and save the results into an Excel file named \"multi_sheet.xlsx\". use the \"openpyxl\" library when saving the Excel file. \n",
    "Note you do not need to save the Excel file for intermediate steps.\n",
    "Inside the excel file, create a sheet \"spending_by_category\" that contains a summary of total spendings by each category.\n",
    "then use the summary data to create a bar chart inside Excel and put it on the same sheet \"spending_by_category\".\n",
    "\"\"\"\n",
    "agent.run(query)"
   ]
  },
  {
   "cell_type": "code",
   "execution_count": null,
   "id": "ad96488f-6563-40da-9839-7f304dbcd746",
   "metadata": {},
   "outputs": [],
   "source": []
  }
 ],
 "metadata": {
  "kernelspec": {
   "display_name": "langchain-venv",
   "language": "python",
   "name": "langchain-venv"
  },
  "language_info": {
   "codemirror_mode": {
    "name": "ipython",
    "version": 3
   },
   "file_extension": ".py",
   "mimetype": "text/x-python",
   "name": "python",
   "nbconvert_exporter": "python",
   "pygments_lexer": "ipython3",
   "version": "3.10.8"
  }
 },
 "nbformat": 4,
 "nbformat_minor": 5
}
